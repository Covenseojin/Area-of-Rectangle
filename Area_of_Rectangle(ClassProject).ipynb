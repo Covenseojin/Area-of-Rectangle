{
 "cells": [
  {
   "cell_type": "code",
   "execution_count": 1,
   "id": "29b94dd6-2df3-46d0-bec8-dd74d7c892b2",
   "metadata": {},
   "outputs": [],
   "source": [
    "import tkinter as tk\n",
    "from tkinter import messagebox\n",
    "\n",
    "def click_cal():\n",
    "    num1 = int(witdth.get())\n",
    "    num2 = int(length.get())\n",
    "    area = (num1 * num2)\n",
    "    messagebox.showinfo('Answer','Area of rectangle is ' + str(area))\n",
    "        \n",
    "def clear():\n",
    "    witdth.set('')\n",
    "    length.set('')\n",
    "     \n",
    "root = tk.Tk()\n",
    "root.geometry(\"250x150\")\n",
    "root.title('Area Calculator')\n",
    "\n",
    "witdth = tk.StringVar()\n",
    "length = tk.StringVar()\n",
    "\n",
    "label1 = tk.Label(root, text = 'Enter width').grid(row=1, column=2)\n",
    "entryNum1 = tk.Entry(root, textvariable = witdth).grid(row=1, column=3)\n",
    "\n",
    "label2 = tk.Label(root, text = 'Enter length').grid(row=2, column=2)\n",
    "entryNum2 = tk.Entry(root, textvariable = length).grid(row=2, column=3)\n",
    "\n",
    "buttonOK = tk.Button(root,text = 'OK', command = click_cal).grid(row=5, column=3)\n",
    "buttonCl = tk.Button(root,text = 'Cancel', command = clear).grid(row=6, column=3)\n",
    "\n",
    "root.mainloop() \n"
   ]
  },
  {
   "cell_type": "code",
   "execution_count": null,
   "id": "7889803e-ba64-4e00-b781-39637a373d82",
   "metadata": {},
   "outputs": [],
   "source": []
  }
 ],
 "metadata": {
  "kernelspec": {
   "display_name": "Python 3 (ipykernel)",
   "language": "python",
   "name": "python3"
  },
  "language_info": {
   "codemirror_mode": {
    "name": "ipython",
    "version": 3
   },
   "file_extension": ".py",
   "mimetype": "text/x-python",
   "name": "python",
   "nbconvert_exporter": "python",
   "pygments_lexer": "ipython3",
   "version": "3.11.7"
  }
 },
 "nbformat": 4,
 "nbformat_minor": 5
}
